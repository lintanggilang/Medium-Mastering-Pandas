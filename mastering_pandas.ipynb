{
 "cells": [
  {
   "cell_type": "markdown",
   "id": "c94c1872",
   "metadata": {},
   "source": [
    "# 1. What is Pandas ?"
   ]
  },
  {
   "cell_type": "markdown",
   "id": "137e27a0",
   "metadata": {},
   "source": [
    "what is pandas? Pandas is an open source and licensed Python library which is often used by data analysts and data scientists when exploring data. Pandas is used to create tables, modify dimension data, inspect data, and so on. The basic data structure in Pandas is named DataFrame, which makes it easier for us to read files with many types of formats such as .txt, .csv, and .tsv files. This feature will create tables and can also process data using operations such as join, different, group by, aggregation, and other techniques found in SQL."
   ]
  },
  {
   "cell_type": "markdown",
   "id": "a389f643",
   "metadata": {},
   "source": [
    "A data practitioner really needs to master various skills to complete the data analysis process effectively and efficiently. For this, various tools are needed with their respective functions. One of the tools most frequently used by data practitioners is Pandas, which is used in the Python programming language."
   ]
  },
  {
   "cell_type": "markdown",
   "id": "3ba5362a",
   "metadata": {},
   "source": [
    "Pandas is based on another package called Numpy, which supports multidimensional arrays. Pandas were initially developed by Wes McKinney in 2008 while he was working at AQR Capital Management."
   ]
  },
  {
   "cell_type": "markdown",
   "id": "492b5ed1",
   "metadata": {},
   "source": [
    "The Pandas library has two types of data structures for the latest version :\n",
    "1. Series\n",
    "2. Data Frame\n",
    "\n",
    "What is Series? Series is like a one-dimensional array as well as a numpy array. Pandas series have indexes and we can control the index of each of those elements.\n",
    "\n",
    "What is a Data frame? A data frame is a two-dimensional array with rows and columns. This data structure is the most standard way to store data in the form of tables/tabular data."
   ]
  },
  {
   "cell_type": "markdown",
   "id": "6232fd95",
   "metadata": {},
   "source": [
    "# 2. Import Pandas"
   ]
  },
  {
   "cell_type": "markdown",
   "id": "031da594",
   "metadata": {},
   "source": [
    "If you’re going to use pandas, then you need to make sure it is included in your python environment. The way you do think is by importing pandas.\n",
    "\n",
    "Importing pandas means bringing all of the pandas functionality to your finger tips in your python script or jupyter notebook. for best practice using pandas, we can also import numpy"
   ]
  },
  {
   "cell_type": "code",
   "execution_count": 1,
   "id": "55fc58a9",
   "metadata": {},
   "outputs": [],
   "source": [
    "import pandas as pd\n",
    "import numpy as np"
   ]
  },
  {
   "cell_type": "markdown",
   "id": "005d85cb",
   "metadata": {},
   "source": [
    "Let’s break down what this statement means.\n",
    "\n",
    "What does import pandas as pd mean?\n",
    "- Import = Bring this functionality or library to my python script\n",
    "- Pandas = The library you want to import, in this case, it’s pandas\n",
    "- As = The python nomenclature for creating as alias. This is a fancy way of taking a long word and referencing it as a short word\n",
    "- pd = The standard short name for referencing pandas"
   ]
  },
  {
   "cell_type": "markdown",
   "id": "db6cdb76",
   "metadata": {},
   "source": [
    "# 3. Try Data Frames"
   ]
  },
  {
   "cell_type": "markdown",
   "id": "da3d278f",
   "metadata": {},
   "source": [
    "A DataFrame in Pandas is a 2-dimensional, labeled data structure which is similar to a SQL Table or a spreadsheet with columns and rows. Each column of a DataFrame can contain different data types."
   ]
  },
  {
   "cell_type": "markdown",
   "id": "e31779b3",
   "metadata": {},
   "source": [
    "It can be concluded that Pandas is a data analysis library needed to clean raw data into a form that can be processed. To better understand what's in the Pandas library, we start by creating a dictionary in python."
   ]
  },
  {
   "cell_type": "code",
   "execution_count": 2,
   "id": "cd16b7dc",
   "metadata": {},
   "outputs": [],
   "source": [
    "cars = {'Brand': ['Brio', 'Jazz', 'HRV', 'CRV', 'Civic', 'Mobilio', 'BRV', 'City'],\n",
    "        'Price': [148, 265, 364, 515, 586, 217, 281, 333],\n",
    "        'Status' : ['sold', 'sold', 'unsold', 'sold', 'unsold', 'unsold', 'sold', 'unsold'],\n",
    "        'ProdYear' : [2020, 2019, 2021, 2020, 2022, 2021, 2023, 2022]\n",
    "        }"
   ]
  },
  {
   "cell_type": "markdown",
   "id": "6f8928e6",
   "metadata": {},
   "source": [
    "This dummy data -- used car sales. Let's convert the dictionary above into a pandas dataframe"
   ]
  },
  {
   "cell_type": "markdown",
   "id": "fff2b820",
   "metadata": {},
   "source": [
    "The dataframe in pandas is usually referred to as ```df```"
   ]
  },
  {
   "cell_type": "code",
   "execution_count": 3,
   "id": "66d60f2d",
   "metadata": {},
   "outputs": [],
   "source": [
    "df = pd.DataFrame(cars)"
   ]
  },
  {
   "cell_type": "markdown",
   "id": "b1e0bfea",
   "metadata": {},
   "source": [
    "# 4. Head and Tail"
   ]
  },
  {
   "cell_type": "markdown",
   "id": "bbd25d4a",
   "metadata": {},
   "source": [
    "# Head"
   ]
  },
  {
   "cell_type": "markdown",
   "id": "ab77d477",
   "metadata": {},
   "source": [
    "# ```df.head()``` \n",
    "\n",
    "→ → → used to display the top 5 data"
   ]
  },
  {
   "cell_type": "markdown",
   "id": "01e97cdd",
   "metadata": {},
   "source": [
    "# ```df.head(n)``` \n",
    "→ → → used to display the top n data"
   ]
  },
  {
   "cell_type": "code",
   "execution_count": 4,
   "id": "dc78d988",
   "metadata": {},
   "outputs": [
    {
     "data": {
      "text/html": [
       "<div>\n",
       "<style scoped>\n",
       "    .dataframe tbody tr th:only-of-type {\n",
       "        vertical-align: middle;\n",
       "    }\n",
       "\n",
       "    .dataframe tbody tr th {\n",
       "        vertical-align: top;\n",
       "    }\n",
       "\n",
       "    .dataframe thead th {\n",
       "        text-align: right;\n",
       "    }\n",
       "</style>\n",
       "<table border=\"1\" class=\"dataframe\">\n",
       "  <thead>\n",
       "    <tr style=\"text-align: right;\">\n",
       "      <th></th>\n",
       "      <th>Brand</th>\n",
       "      <th>Price</th>\n",
       "      <th>Status</th>\n",
       "      <th>ProdYear</th>\n",
       "    </tr>\n",
       "  </thead>\n",
       "  <tbody>\n",
       "    <tr>\n",
       "      <th>0</th>\n",
       "      <td>Brio</td>\n",
       "      <td>148</td>\n",
       "      <td>sold</td>\n",
       "      <td>2020</td>\n",
       "    </tr>\n",
       "    <tr>\n",
       "      <th>1</th>\n",
       "      <td>Jazz</td>\n",
       "      <td>265</td>\n",
       "      <td>sold</td>\n",
       "      <td>2019</td>\n",
       "    </tr>\n",
       "    <tr>\n",
       "      <th>2</th>\n",
       "      <td>HRV</td>\n",
       "      <td>364</td>\n",
       "      <td>unsold</td>\n",
       "      <td>2021</td>\n",
       "    </tr>\n",
       "    <tr>\n",
       "      <th>3</th>\n",
       "      <td>CRV</td>\n",
       "      <td>515</td>\n",
       "      <td>sold</td>\n",
       "      <td>2020</td>\n",
       "    </tr>\n",
       "    <tr>\n",
       "      <th>4</th>\n",
       "      <td>Civic</td>\n",
       "      <td>586</td>\n",
       "      <td>unsold</td>\n",
       "      <td>2022</td>\n",
       "    </tr>\n",
       "  </tbody>\n",
       "</table>\n",
       "</div>"
      ],
      "text/plain": [
       "   Brand  Price  Status  ProdYear\n",
       "0   Brio    148    sold      2020\n",
       "1   Jazz    265    sold      2019\n",
       "2    HRV    364  unsold      2021\n",
       "3    CRV    515    sold      2020\n",
       "4  Civic    586  unsold      2022"
      ]
     },
     "execution_count": 4,
     "metadata": {},
     "output_type": "execute_result"
    }
   ],
   "source": [
    "df.head()"
   ]
  },
  {
   "cell_type": "code",
   "execution_count": 5,
   "id": "39513328",
   "metadata": {
    "scrolled": true
   },
   "outputs": [
    {
     "data": {
      "text/html": [
       "<div>\n",
       "<style scoped>\n",
       "    .dataframe tbody tr th:only-of-type {\n",
       "        vertical-align: middle;\n",
       "    }\n",
       "\n",
       "    .dataframe tbody tr th {\n",
       "        vertical-align: top;\n",
       "    }\n",
       "\n",
       "    .dataframe thead th {\n",
       "        text-align: right;\n",
       "    }\n",
       "</style>\n",
       "<table border=\"1\" class=\"dataframe\">\n",
       "  <thead>\n",
       "    <tr style=\"text-align: right;\">\n",
       "      <th></th>\n",
       "      <th>Brand</th>\n",
       "      <th>Price</th>\n",
       "      <th>Status</th>\n",
       "      <th>ProdYear</th>\n",
       "    </tr>\n",
       "  </thead>\n",
       "  <tbody>\n",
       "    <tr>\n",
       "      <th>0</th>\n",
       "      <td>Brio</td>\n",
       "      <td>148</td>\n",
       "      <td>sold</td>\n",
       "      <td>2020</td>\n",
       "    </tr>\n",
       "  </tbody>\n",
       "</table>\n",
       "</div>"
      ],
      "text/plain": [
       "  Brand  Price Status  ProdYear\n",
       "0  Brio    148   sold      2020"
      ]
     },
     "execution_count": 5,
     "metadata": {},
     "output_type": "execute_result"
    }
   ],
   "source": [
    "df.head(1)"
   ]
  },
  {
   "cell_type": "markdown",
   "id": "bd92637d",
   "metadata": {},
   "source": [
    "# Tail"
   ]
  },
  {
   "cell_type": "markdown",
   "id": "03ba52e9",
   "metadata": {},
   "source": [
    "# ```df.tail()``` \n",
    "→ → → used to display the last 5 data"
   ]
  },
  {
   "cell_type": "markdown",
   "id": "89a404db",
   "metadata": {},
   "source": [
    "# ```df.head(n)``` \n",
    "→ → → used to display the top last n data"
   ]
  },
  {
   "cell_type": "code",
   "execution_count": 6,
   "id": "bce679b8",
   "metadata": {},
   "outputs": [
    {
     "data": {
      "text/html": [
       "<div>\n",
       "<style scoped>\n",
       "    .dataframe tbody tr th:only-of-type {\n",
       "        vertical-align: middle;\n",
       "    }\n",
       "\n",
       "    .dataframe tbody tr th {\n",
       "        vertical-align: top;\n",
       "    }\n",
       "\n",
       "    .dataframe thead th {\n",
       "        text-align: right;\n",
       "    }\n",
       "</style>\n",
       "<table border=\"1\" class=\"dataframe\">\n",
       "  <thead>\n",
       "    <tr style=\"text-align: right;\">\n",
       "      <th></th>\n",
       "      <th>Brand</th>\n",
       "      <th>Price</th>\n",
       "      <th>Status</th>\n",
       "      <th>ProdYear</th>\n",
       "    </tr>\n",
       "  </thead>\n",
       "  <tbody>\n",
       "    <tr>\n",
       "      <th>3</th>\n",
       "      <td>CRV</td>\n",
       "      <td>515</td>\n",
       "      <td>sold</td>\n",
       "      <td>2020</td>\n",
       "    </tr>\n",
       "    <tr>\n",
       "      <th>4</th>\n",
       "      <td>Civic</td>\n",
       "      <td>586</td>\n",
       "      <td>unsold</td>\n",
       "      <td>2022</td>\n",
       "    </tr>\n",
       "    <tr>\n",
       "      <th>5</th>\n",
       "      <td>Mobilio</td>\n",
       "      <td>217</td>\n",
       "      <td>unsold</td>\n",
       "      <td>2021</td>\n",
       "    </tr>\n",
       "    <tr>\n",
       "      <th>6</th>\n",
       "      <td>BRV</td>\n",
       "      <td>281</td>\n",
       "      <td>sold</td>\n",
       "      <td>2023</td>\n",
       "    </tr>\n",
       "    <tr>\n",
       "      <th>7</th>\n",
       "      <td>City</td>\n",
       "      <td>333</td>\n",
       "      <td>unsold</td>\n",
       "      <td>2022</td>\n",
       "    </tr>\n",
       "  </tbody>\n",
       "</table>\n",
       "</div>"
      ],
      "text/plain": [
       "     Brand  Price  Status  ProdYear\n",
       "3      CRV    515    sold      2020\n",
       "4    Civic    586  unsold      2022\n",
       "5  Mobilio    217  unsold      2021\n",
       "6      BRV    281    sold      2023\n",
       "7     City    333  unsold      2022"
      ]
     },
     "execution_count": 6,
     "metadata": {},
     "output_type": "execute_result"
    }
   ],
   "source": [
    "df.tail()"
   ]
  },
  {
   "cell_type": "code",
   "execution_count": 7,
   "id": "38f1d2bf",
   "metadata": {},
   "outputs": [
    {
     "data": {
      "text/html": [
       "<div>\n",
       "<style scoped>\n",
       "    .dataframe tbody tr th:only-of-type {\n",
       "        vertical-align: middle;\n",
       "    }\n",
       "\n",
       "    .dataframe tbody tr th {\n",
       "        vertical-align: top;\n",
       "    }\n",
       "\n",
       "    .dataframe thead th {\n",
       "        text-align: right;\n",
       "    }\n",
       "</style>\n",
       "<table border=\"1\" class=\"dataframe\">\n",
       "  <thead>\n",
       "    <tr style=\"text-align: right;\">\n",
       "      <th></th>\n",
       "      <th>Brand</th>\n",
       "      <th>Price</th>\n",
       "      <th>Status</th>\n",
       "      <th>ProdYear</th>\n",
       "    </tr>\n",
       "  </thead>\n",
       "  <tbody>\n",
       "    <tr>\n",
       "      <th>7</th>\n",
       "      <td>City</td>\n",
       "      <td>333</td>\n",
       "      <td>unsold</td>\n",
       "      <td>2022</td>\n",
       "    </tr>\n",
       "  </tbody>\n",
       "</table>\n",
       "</div>"
      ],
      "text/plain": [
       "  Brand  Price  Status  ProdYear\n",
       "7  City    333  unsold      2022"
      ]
     },
     "execution_count": 7,
     "metadata": {},
     "output_type": "execute_result"
    }
   ],
   "source": [
    "df.tail(1)"
   ]
  },
  {
   "cell_type": "markdown",
   "id": "1711b05d",
   "metadata": {},
   "source": [
    "# 5. Slicing"
   ]
  },
  {
   "cell_type": "markdown",
   "id": "96a2443d",
   "metadata": {},
   "source": [
    "The indexing and attribute selection operators are great because they work just like they do in the rest of the Python ecosystem. If you are a beginner, this makes it easy to pick up and use. However, pandas has its own access operators, ```loc``` and ```iloc```."
   ]
  },
  {
   "cell_type": "markdown",
   "id": "2ce098ab",
   "metadata": {},
   "source": [
    "Index-based selection\n",
    "Pandas indexing works in one of two paradigms. The first is index-based selection: selecting data based on its numerical position in the data. iloc follows this paradigm.\n",
    "\n",
    "To select the first row of data in a DataFrame, we may use the following:"
   ]
  },
  {
   "cell_type": "markdown",
   "id": "2987cbe6",
   "metadata": {},
   "source": [
    "# ```df.iloc[ row , column]```  → Index-based selection\n",
    "\n",
    "→ → → \n",
    "\n",
    "method is used when the index label of a data frame is something other than numeric series of 0, 1, 2, 3….n or in case the user doesn’t know the index label"
   ]
  },
  {
   "cell_type": "code",
   "execution_count": 8,
   "id": "9e02936b",
   "metadata": {},
   "outputs": [
    {
     "data": {
      "text/html": [
       "<div>\n",
       "<style scoped>\n",
       "    .dataframe tbody tr th:only-of-type {\n",
       "        vertical-align: middle;\n",
       "    }\n",
       "\n",
       "    .dataframe tbody tr th {\n",
       "        vertical-align: top;\n",
       "    }\n",
       "\n",
       "    .dataframe thead th {\n",
       "        text-align: right;\n",
       "    }\n",
       "</style>\n",
       "<table border=\"1\" class=\"dataframe\">\n",
       "  <thead>\n",
       "    <tr style=\"text-align: right;\">\n",
       "      <th></th>\n",
       "      <th>Brand</th>\n",
       "      <th>Price</th>\n",
       "      <th>Status</th>\n",
       "      <th>ProdYear</th>\n",
       "    </tr>\n",
       "  </thead>\n",
       "  <tbody>\n",
       "    <tr>\n",
       "      <th>0</th>\n",
       "      <td>Brio</td>\n",
       "      <td>148</td>\n",
       "      <td>sold</td>\n",
       "      <td>2020</td>\n",
       "    </tr>\n",
       "    <tr>\n",
       "      <th>1</th>\n",
       "      <td>Jazz</td>\n",
       "      <td>265</td>\n",
       "      <td>sold</td>\n",
       "      <td>2019</td>\n",
       "    </tr>\n",
       "    <tr>\n",
       "      <th>2</th>\n",
       "      <td>HRV</td>\n",
       "      <td>364</td>\n",
       "      <td>unsold</td>\n",
       "      <td>2021</td>\n",
       "    </tr>\n",
       "    <tr>\n",
       "      <th>3</th>\n",
       "      <td>CRV</td>\n",
       "      <td>515</td>\n",
       "      <td>sold</td>\n",
       "      <td>2020</td>\n",
       "    </tr>\n",
       "    <tr>\n",
       "      <th>4</th>\n",
       "      <td>Civic</td>\n",
       "      <td>586</td>\n",
       "      <td>unsold</td>\n",
       "      <td>2022</td>\n",
       "    </tr>\n",
       "    <tr>\n",
       "      <th>5</th>\n",
       "      <td>Mobilio</td>\n",
       "      <td>217</td>\n",
       "      <td>unsold</td>\n",
       "      <td>2021</td>\n",
       "    </tr>\n",
       "    <tr>\n",
       "      <th>6</th>\n",
       "      <td>BRV</td>\n",
       "      <td>281</td>\n",
       "      <td>sold</td>\n",
       "      <td>2023</td>\n",
       "    </tr>\n",
       "    <tr>\n",
       "      <th>7</th>\n",
       "      <td>City</td>\n",
       "      <td>333</td>\n",
       "      <td>unsold</td>\n",
       "      <td>2022</td>\n",
       "    </tr>\n",
       "  </tbody>\n",
       "</table>\n",
       "</div>"
      ],
      "text/plain": [
       "     Brand  Price  Status  ProdYear\n",
       "0     Brio    148    sold      2020\n",
       "1     Jazz    265    sold      2019\n",
       "2      HRV    364  unsold      2021\n",
       "3      CRV    515    sold      2020\n",
       "4    Civic    586  unsold      2022\n",
       "5  Mobilio    217  unsold      2021\n",
       "6      BRV    281    sold      2023\n",
       "7     City    333  unsold      2022"
      ]
     },
     "execution_count": 8,
     "metadata": {},
     "output_type": "execute_result"
    }
   ],
   "source": [
    "df.iloc[:,:]"
   ]
  },
  {
   "cell_type": "code",
   "execution_count": 9,
   "id": "b1e3c371",
   "metadata": {},
   "outputs": [
    {
     "data": {
      "text/html": [
       "<div>\n",
       "<style scoped>\n",
       "    .dataframe tbody tr th:only-of-type {\n",
       "        vertical-align: middle;\n",
       "    }\n",
       "\n",
       "    .dataframe tbody tr th {\n",
       "        vertical-align: top;\n",
       "    }\n",
       "\n",
       "    .dataframe thead th {\n",
       "        text-align: right;\n",
       "    }\n",
       "</style>\n",
       "<table border=\"1\" class=\"dataframe\">\n",
       "  <thead>\n",
       "    <tr style=\"text-align: right;\">\n",
       "      <th></th>\n",
       "      <th>Brand</th>\n",
       "      <th>Price</th>\n",
       "      <th>Status</th>\n",
       "      <th>ProdYear</th>\n",
       "    </tr>\n",
       "  </thead>\n",
       "  <tbody>\n",
       "    <tr>\n",
       "      <th>0</th>\n",
       "      <td>Brio</td>\n",
       "      <td>148</td>\n",
       "      <td>sold</td>\n",
       "      <td>2020</td>\n",
       "    </tr>\n",
       "    <tr>\n",
       "      <th>1</th>\n",
       "      <td>Jazz</td>\n",
       "      <td>265</td>\n",
       "      <td>sold</td>\n",
       "      <td>2019</td>\n",
       "    </tr>\n",
       "    <tr>\n",
       "      <th>2</th>\n",
       "      <td>HRV</td>\n",
       "      <td>364</td>\n",
       "      <td>unsold</td>\n",
       "      <td>2021</td>\n",
       "    </tr>\n",
       "    <tr>\n",
       "      <th>3</th>\n",
       "      <td>CRV</td>\n",
       "      <td>515</td>\n",
       "      <td>sold</td>\n",
       "      <td>2020</td>\n",
       "    </tr>\n",
       "    <tr>\n",
       "      <th>4</th>\n",
       "      <td>Civic</td>\n",
       "      <td>586</td>\n",
       "      <td>unsold</td>\n",
       "      <td>2022</td>\n",
       "    </tr>\n",
       "    <tr>\n",
       "      <th>5</th>\n",
       "      <td>Mobilio</td>\n",
       "      <td>217</td>\n",
       "      <td>unsold</td>\n",
       "      <td>2021</td>\n",
       "    </tr>\n",
       "    <tr>\n",
       "      <th>6</th>\n",
       "      <td>BRV</td>\n",
       "      <td>281</td>\n",
       "      <td>sold</td>\n",
       "      <td>2023</td>\n",
       "    </tr>\n",
       "  </tbody>\n",
       "</table>\n",
       "</div>"
      ],
      "text/plain": [
       "     Brand  Price  Status  ProdYear\n",
       "0     Brio    148    sold      2020\n",
       "1     Jazz    265    sold      2019\n",
       "2      HRV    364  unsold      2021\n",
       "3      CRV    515    sold      2020\n",
       "4    Civic    586  unsold      2022\n",
       "5  Mobilio    217  unsold      2021\n",
       "6      BRV    281    sold      2023"
      ]
     },
     "execution_count": 9,
     "metadata": {},
     "output_type": "execute_result"
    }
   ],
   "source": [
    "df.iloc[0:7,:]"
   ]
  },
  {
   "cell_type": "code",
   "execution_count": 10,
   "id": "06970c4f",
   "metadata": {},
   "outputs": [
    {
     "data": {
      "text/html": [
       "<div>\n",
       "<style scoped>\n",
       "    .dataframe tbody tr th:only-of-type {\n",
       "        vertical-align: middle;\n",
       "    }\n",
       "\n",
       "    .dataframe tbody tr th {\n",
       "        vertical-align: top;\n",
       "    }\n",
       "\n",
       "    .dataframe thead th {\n",
       "        text-align: right;\n",
       "    }\n",
       "</style>\n",
       "<table border=\"1\" class=\"dataframe\">\n",
       "  <thead>\n",
       "    <tr style=\"text-align: right;\">\n",
       "      <th></th>\n",
       "      <th>Price</th>\n",
       "    </tr>\n",
       "  </thead>\n",
       "  <tbody>\n",
       "    <tr>\n",
       "      <th>0</th>\n",
       "      <td>148</td>\n",
       "    </tr>\n",
       "    <tr>\n",
       "      <th>1</th>\n",
       "      <td>265</td>\n",
       "    </tr>\n",
       "    <tr>\n",
       "      <th>2</th>\n",
       "      <td>364</td>\n",
       "    </tr>\n",
       "    <tr>\n",
       "      <th>3</th>\n",
       "      <td>515</td>\n",
       "    </tr>\n",
       "    <tr>\n",
       "      <th>4</th>\n",
       "      <td>586</td>\n",
       "    </tr>\n",
       "    <tr>\n",
       "      <th>5</th>\n",
       "      <td>217</td>\n",
       "    </tr>\n",
       "    <tr>\n",
       "      <th>6</th>\n",
       "      <td>281</td>\n",
       "    </tr>\n",
       "  </tbody>\n",
       "</table>\n",
       "</div>"
      ],
      "text/plain": [
       "   Price\n",
       "0    148\n",
       "1    265\n",
       "2    364\n",
       "3    515\n",
       "4    586\n",
       "5    217\n",
       "6    281"
      ]
     },
     "execution_count": 10,
     "metadata": {},
     "output_type": "execute_result"
    }
   ],
   "source": [
    "df.iloc[0:7,1:2]"
   ]
  },
  {
   "cell_type": "code",
   "execution_count": null,
   "id": "f8f876bb",
   "metadata": {},
   "outputs": [],
   "source": []
  },
  {
   "cell_type": "markdown",
   "id": "fba9af98",
   "metadata": {},
   "source": [
    "```df.loc[ row , column]``` → Label-based selection\n",
    "\n",
    "→ → → \n",
    "\n",
    "attribute access a group of rows and columns by label(s) or a boolean array in the given DataFrame"
   ]
  },
  {
   "cell_type": "code",
   "execution_count": 11,
   "id": "bf06cf22",
   "metadata": {},
   "outputs": [
    {
     "data": {
      "text/html": [
       "<div>\n",
       "<style scoped>\n",
       "    .dataframe tbody tr th:only-of-type {\n",
       "        vertical-align: middle;\n",
       "    }\n",
       "\n",
       "    .dataframe tbody tr th {\n",
       "        vertical-align: top;\n",
       "    }\n",
       "\n",
       "    .dataframe thead th {\n",
       "        text-align: right;\n",
       "    }\n",
       "</style>\n",
       "<table border=\"1\" class=\"dataframe\">\n",
       "  <thead>\n",
       "    <tr style=\"text-align: right;\">\n",
       "      <th></th>\n",
       "      <th>Brand</th>\n",
       "      <th>Price</th>\n",
       "      <th>Status</th>\n",
       "      <th>ProdYear</th>\n",
       "    </tr>\n",
       "  </thead>\n",
       "  <tbody>\n",
       "    <tr>\n",
       "      <th>0</th>\n",
       "      <td>Brio</td>\n",
       "      <td>148</td>\n",
       "      <td>sold</td>\n",
       "      <td>2020</td>\n",
       "    </tr>\n",
       "    <tr>\n",
       "      <th>1</th>\n",
       "      <td>Jazz</td>\n",
       "      <td>265</td>\n",
       "      <td>sold</td>\n",
       "      <td>2019</td>\n",
       "    </tr>\n",
       "    <tr>\n",
       "      <th>2</th>\n",
       "      <td>HRV</td>\n",
       "      <td>364</td>\n",
       "      <td>unsold</td>\n",
       "      <td>2021</td>\n",
       "    </tr>\n",
       "    <tr>\n",
       "      <th>3</th>\n",
       "      <td>CRV</td>\n",
       "      <td>515</td>\n",
       "      <td>sold</td>\n",
       "      <td>2020</td>\n",
       "    </tr>\n",
       "    <tr>\n",
       "      <th>4</th>\n",
       "      <td>Civic</td>\n",
       "      <td>586</td>\n",
       "      <td>unsold</td>\n",
       "      <td>2022</td>\n",
       "    </tr>\n",
       "    <tr>\n",
       "      <th>5</th>\n",
       "      <td>Mobilio</td>\n",
       "      <td>217</td>\n",
       "      <td>unsold</td>\n",
       "      <td>2021</td>\n",
       "    </tr>\n",
       "    <tr>\n",
       "      <th>6</th>\n",
       "      <td>BRV</td>\n",
       "      <td>281</td>\n",
       "      <td>sold</td>\n",
       "      <td>2023</td>\n",
       "    </tr>\n",
       "    <tr>\n",
       "      <th>7</th>\n",
       "      <td>City</td>\n",
       "      <td>333</td>\n",
       "      <td>unsold</td>\n",
       "      <td>2022</td>\n",
       "    </tr>\n",
       "  </tbody>\n",
       "</table>\n",
       "</div>"
      ],
      "text/plain": [
       "     Brand  Price  Status  ProdYear\n",
       "0     Brio    148    sold      2020\n",
       "1     Jazz    265    sold      2019\n",
       "2      HRV    364  unsold      2021\n",
       "3      CRV    515    sold      2020\n",
       "4    Civic    586  unsold      2022\n",
       "5  Mobilio    217  unsold      2021\n",
       "6      BRV    281    sold      2023\n",
       "7     City    333  unsold      2022"
      ]
     },
     "execution_count": 11,
     "metadata": {},
     "output_type": "execute_result"
    }
   ],
   "source": [
    "df.loc[:,:]"
   ]
  },
  {
   "cell_type": "code",
   "execution_count": 12,
   "id": "8cbe9fa3",
   "metadata": {},
   "outputs": [
    {
     "data": {
      "text/html": [
       "<div>\n",
       "<style scoped>\n",
       "    .dataframe tbody tr th:only-of-type {\n",
       "        vertical-align: middle;\n",
       "    }\n",
       "\n",
       "    .dataframe tbody tr th {\n",
       "        vertical-align: top;\n",
       "    }\n",
       "\n",
       "    .dataframe thead th {\n",
       "        text-align: right;\n",
       "    }\n",
       "</style>\n",
       "<table border=\"1\" class=\"dataframe\">\n",
       "  <thead>\n",
       "    <tr style=\"text-align: right;\">\n",
       "      <th></th>\n",
       "      <th>Brand</th>\n",
       "      <th>Price</th>\n",
       "      <th>Status</th>\n",
       "      <th>ProdYear</th>\n",
       "    </tr>\n",
       "  </thead>\n",
       "  <tbody>\n",
       "    <tr>\n",
       "      <th>0</th>\n",
       "      <td>Brio</td>\n",
       "      <td>148</td>\n",
       "      <td>sold</td>\n",
       "      <td>2020</td>\n",
       "    </tr>\n",
       "    <tr>\n",
       "      <th>1</th>\n",
       "      <td>Jazz</td>\n",
       "      <td>265</td>\n",
       "      <td>sold</td>\n",
       "      <td>2019</td>\n",
       "    </tr>\n",
       "    <tr>\n",
       "      <th>2</th>\n",
       "      <td>HRV</td>\n",
       "      <td>364</td>\n",
       "      <td>unsold</td>\n",
       "      <td>2021</td>\n",
       "    </tr>\n",
       "    <tr>\n",
       "      <th>3</th>\n",
       "      <td>CRV</td>\n",
       "      <td>515</td>\n",
       "      <td>sold</td>\n",
       "      <td>2020</td>\n",
       "    </tr>\n",
       "    <tr>\n",
       "      <th>4</th>\n",
       "      <td>Civic</td>\n",
       "      <td>586</td>\n",
       "      <td>unsold</td>\n",
       "      <td>2022</td>\n",
       "    </tr>\n",
       "    <tr>\n",
       "      <th>5</th>\n",
       "      <td>Mobilio</td>\n",
       "      <td>217</td>\n",
       "      <td>unsold</td>\n",
       "      <td>2021</td>\n",
       "    </tr>\n",
       "    <tr>\n",
       "      <th>6</th>\n",
       "      <td>BRV</td>\n",
       "      <td>281</td>\n",
       "      <td>sold</td>\n",
       "      <td>2023</td>\n",
       "    </tr>\n",
       "    <tr>\n",
       "      <th>7</th>\n",
       "      <td>City</td>\n",
       "      <td>333</td>\n",
       "      <td>unsold</td>\n",
       "      <td>2022</td>\n",
       "    </tr>\n",
       "  </tbody>\n",
       "</table>\n",
       "</div>"
      ],
      "text/plain": [
       "     Brand  Price  Status  ProdYear\n",
       "0     Brio    148    sold      2020\n",
       "1     Jazz    265    sold      2019\n",
       "2      HRV    364  unsold      2021\n",
       "3      CRV    515    sold      2020\n",
       "4    Civic    586  unsold      2022\n",
       "5  Mobilio    217  unsold      2021\n",
       "6      BRV    281    sold      2023\n",
       "7     City    333  unsold      2022"
      ]
     },
     "execution_count": 12,
     "metadata": {},
     "output_type": "execute_result"
    }
   ],
   "source": [
    "df.loc[0:7,:]"
   ]
  },
  {
   "cell_type": "code",
   "execution_count": 13,
   "id": "3505fe9e",
   "metadata": {},
   "outputs": [
    {
     "data": {
      "text/html": [
       "<div>\n",
       "<style scoped>\n",
       "    .dataframe tbody tr th:only-of-type {\n",
       "        vertical-align: middle;\n",
       "    }\n",
       "\n",
       "    .dataframe tbody tr th {\n",
       "        vertical-align: top;\n",
       "    }\n",
       "\n",
       "    .dataframe thead th {\n",
       "        text-align: right;\n",
       "    }\n",
       "</style>\n",
       "<table border=\"1\" class=\"dataframe\">\n",
       "  <thead>\n",
       "    <tr style=\"text-align: right;\">\n",
       "      <th></th>\n",
       "      <th>Price</th>\n",
       "    </tr>\n",
       "  </thead>\n",
       "  <tbody>\n",
       "    <tr>\n",
       "      <th>0</th>\n",
       "      <td>148</td>\n",
       "    </tr>\n",
       "    <tr>\n",
       "      <th>1</th>\n",
       "      <td>265</td>\n",
       "    </tr>\n",
       "    <tr>\n",
       "      <th>2</th>\n",
       "      <td>364</td>\n",
       "    </tr>\n",
       "    <tr>\n",
       "      <th>3</th>\n",
       "      <td>515</td>\n",
       "    </tr>\n",
       "    <tr>\n",
       "      <th>4</th>\n",
       "      <td>586</td>\n",
       "    </tr>\n",
       "    <tr>\n",
       "      <th>5</th>\n",
       "      <td>217</td>\n",
       "    </tr>\n",
       "    <tr>\n",
       "      <th>6</th>\n",
       "      <td>281</td>\n",
       "    </tr>\n",
       "    <tr>\n",
       "      <th>7</th>\n",
       "      <td>333</td>\n",
       "    </tr>\n",
       "  </tbody>\n",
       "</table>\n",
       "</div>"
      ],
      "text/plain": [
       "   Price\n",
       "0    148\n",
       "1    265\n",
       "2    364\n",
       "3    515\n",
       "4    586\n",
       "5    217\n",
       "6    281\n",
       "7    333"
      ]
     },
     "execution_count": 13,
     "metadata": {},
     "output_type": "execute_result"
    }
   ],
   "source": [
    "df.loc[0:7,'Price':'Price']"
   ]
  },
  {
   "cell_type": "markdown",
   "id": "050d3e11",
   "metadata": {},
   "source": [
    "# 6. Conditional selection"
   ]
  },
  {
   "cell_type": "markdown",
   "id": "3b8743bf",
   "metadata": {},
   "source": [
    "Another way of slicing is doing conditional filtering. For example, filter data with prices below 400 or sold status\n",
    "\n",
    "In SQL it's called \"where clause\" and in excel it's called \"filtering table\""
   ]
  },
  {
   "cell_type": "markdown",
   "id": "e569bddb",
   "metadata": {},
   "source": [
    "aasc ```df[ conditional1 , (and/or),  conditional2, ...  ]```"
   ]
  },
  {
   "cell_type": "code",
   "execution_count": 14,
   "id": "78f6d3bf",
   "metadata": {},
   "outputs": [
    {
     "data": {
      "text/html": [
       "<div>\n",
       "<style scoped>\n",
       "    .dataframe tbody tr th:only-of-type {\n",
       "        vertical-align: middle;\n",
       "    }\n",
       "\n",
       "    .dataframe tbody tr th {\n",
       "        vertical-align: top;\n",
       "    }\n",
       "\n",
       "    .dataframe thead th {\n",
       "        text-align: right;\n",
       "    }\n",
       "</style>\n",
       "<table border=\"1\" class=\"dataframe\">\n",
       "  <thead>\n",
       "    <tr style=\"text-align: right;\">\n",
       "      <th></th>\n",
       "      <th>Brand</th>\n",
       "      <th>Price</th>\n",
       "      <th>Status</th>\n",
       "      <th>ProdYear</th>\n",
       "    </tr>\n",
       "  </thead>\n",
       "  <tbody>\n",
       "    <tr>\n",
       "      <th>0</th>\n",
       "      <td>Brio</td>\n",
       "      <td>148</td>\n",
       "      <td>sold</td>\n",
       "      <td>2020</td>\n",
       "    </tr>\n",
       "    <tr>\n",
       "      <th>1</th>\n",
       "      <td>Jazz</td>\n",
       "      <td>265</td>\n",
       "      <td>sold</td>\n",
       "      <td>2019</td>\n",
       "    </tr>\n",
       "    <tr>\n",
       "      <th>2</th>\n",
       "      <td>HRV</td>\n",
       "      <td>364</td>\n",
       "      <td>unsold</td>\n",
       "      <td>2021</td>\n",
       "    </tr>\n",
       "    <tr>\n",
       "      <th>5</th>\n",
       "      <td>Mobilio</td>\n",
       "      <td>217</td>\n",
       "      <td>unsold</td>\n",
       "      <td>2021</td>\n",
       "    </tr>\n",
       "    <tr>\n",
       "      <th>6</th>\n",
       "      <td>BRV</td>\n",
       "      <td>281</td>\n",
       "      <td>sold</td>\n",
       "      <td>2023</td>\n",
       "    </tr>\n",
       "    <tr>\n",
       "      <th>7</th>\n",
       "      <td>City</td>\n",
       "      <td>333</td>\n",
       "      <td>unsold</td>\n",
       "      <td>2022</td>\n",
       "    </tr>\n",
       "  </tbody>\n",
       "</table>\n",
       "</div>"
      ],
      "text/plain": [
       "     Brand  Price  Status  ProdYear\n",
       "0     Brio    148    sold      2020\n",
       "1     Jazz    265    sold      2019\n",
       "2      HRV    364  unsold      2021\n",
       "5  Mobilio    217  unsold      2021\n",
       "6      BRV    281    sold      2023\n",
       "7     City    333  unsold      2022"
      ]
     },
     "execution_count": 14,
     "metadata": {},
     "output_type": "execute_result"
    }
   ],
   "source": [
    "df[df.Price <= 400]"
   ]
  },
  {
   "cell_type": "code",
   "execution_count": 15,
   "id": "136b6e3e",
   "metadata": {},
   "outputs": [
    {
     "data": {
      "text/html": [
       "<div>\n",
       "<style scoped>\n",
       "    .dataframe tbody tr th:only-of-type {\n",
       "        vertical-align: middle;\n",
       "    }\n",
       "\n",
       "    .dataframe tbody tr th {\n",
       "        vertical-align: top;\n",
       "    }\n",
       "\n",
       "    .dataframe thead th {\n",
       "        text-align: right;\n",
       "    }\n",
       "</style>\n",
       "<table border=\"1\" class=\"dataframe\">\n",
       "  <thead>\n",
       "    <tr style=\"text-align: right;\">\n",
       "      <th></th>\n",
       "      <th>Brand</th>\n",
       "      <th>Price</th>\n",
       "      <th>Status</th>\n",
       "      <th>ProdYear</th>\n",
       "    </tr>\n",
       "  </thead>\n",
       "  <tbody>\n",
       "    <tr>\n",
       "      <th>0</th>\n",
       "      <td>Brio</td>\n",
       "      <td>148</td>\n",
       "      <td>sold</td>\n",
       "      <td>2020</td>\n",
       "    </tr>\n",
       "    <tr>\n",
       "      <th>1</th>\n",
       "      <td>Jazz</td>\n",
       "      <td>265</td>\n",
       "      <td>sold</td>\n",
       "      <td>2019</td>\n",
       "    </tr>\n",
       "    <tr>\n",
       "      <th>3</th>\n",
       "      <td>CRV</td>\n",
       "      <td>515</td>\n",
       "      <td>sold</td>\n",
       "      <td>2020</td>\n",
       "    </tr>\n",
       "    <tr>\n",
       "      <th>6</th>\n",
       "      <td>BRV</td>\n",
       "      <td>281</td>\n",
       "      <td>sold</td>\n",
       "      <td>2023</td>\n",
       "    </tr>\n",
       "  </tbody>\n",
       "</table>\n",
       "</div>"
      ],
      "text/plain": [
       "  Brand  Price Status  ProdYear\n",
       "0  Brio    148   sold      2020\n",
       "1  Jazz    265   sold      2019\n",
       "3   CRV    515   sold      2020\n",
       "6   BRV    281   sold      2023"
      ]
     },
     "execution_count": 15,
     "metadata": {},
     "output_type": "execute_result"
    }
   ],
   "source": [
    "df[df.Status == 'sold']"
   ]
  },
  {
   "cell_type": "code",
   "execution_count": 16,
   "id": "8b8a1be8",
   "metadata": {},
   "outputs": [
    {
     "data": {
      "text/html": [
       "<div>\n",
       "<style scoped>\n",
       "    .dataframe tbody tr th:only-of-type {\n",
       "        vertical-align: middle;\n",
       "    }\n",
       "\n",
       "    .dataframe tbody tr th {\n",
       "        vertical-align: top;\n",
       "    }\n",
       "\n",
       "    .dataframe thead th {\n",
       "        text-align: right;\n",
       "    }\n",
       "</style>\n",
       "<table border=\"1\" class=\"dataframe\">\n",
       "  <thead>\n",
       "    <tr style=\"text-align: right;\">\n",
       "      <th></th>\n",
       "      <th>Brand</th>\n",
       "      <th>Price</th>\n",
       "      <th>Status</th>\n",
       "      <th>ProdYear</th>\n",
       "    </tr>\n",
       "  </thead>\n",
       "  <tbody>\n",
       "    <tr>\n",
       "      <th>4</th>\n",
       "      <td>Civic</td>\n",
       "      <td>586</td>\n",
       "      <td>unsold</td>\n",
       "      <td>2022</td>\n",
       "    </tr>\n",
       "  </tbody>\n",
       "</table>\n",
       "</div>"
      ],
      "text/plain": [
       "   Brand  Price  Status  ProdYear\n",
       "4  Civic    586  unsold      2022"
      ]
     },
     "execution_count": 16,
     "metadata": {},
     "output_type": "execute_result"
    }
   ],
   "source": [
    "df[(df.Price >= 400) & (df.Status == 'unsold')]"
   ]
  },
  {
   "cell_type": "code",
   "execution_count": 17,
   "id": "cefe8844",
   "metadata": {},
   "outputs": [
    {
     "data": {
      "text/html": [
       "<div>\n",
       "<style scoped>\n",
       "    .dataframe tbody tr th:only-of-type {\n",
       "        vertical-align: middle;\n",
       "    }\n",
       "\n",
       "    .dataframe tbody tr th {\n",
       "        vertical-align: top;\n",
       "    }\n",
       "\n",
       "    .dataframe thead th {\n",
       "        text-align: right;\n",
       "    }\n",
       "</style>\n",
       "<table border=\"1\" class=\"dataframe\">\n",
       "  <thead>\n",
       "    <tr style=\"text-align: right;\">\n",
       "      <th></th>\n",
       "      <th>Brand</th>\n",
       "      <th>Price</th>\n",
       "      <th>Status</th>\n",
       "      <th>ProdYear</th>\n",
       "    </tr>\n",
       "  </thead>\n",
       "  <tbody>\n",
       "    <tr>\n",
       "      <th>2</th>\n",
       "      <td>HRV</td>\n",
       "      <td>364</td>\n",
       "      <td>unsold</td>\n",
       "      <td>2021</td>\n",
       "    </tr>\n",
       "    <tr>\n",
       "      <th>3</th>\n",
       "      <td>CRV</td>\n",
       "      <td>515</td>\n",
       "      <td>sold</td>\n",
       "      <td>2020</td>\n",
       "    </tr>\n",
       "    <tr>\n",
       "      <th>4</th>\n",
       "      <td>Civic</td>\n",
       "      <td>586</td>\n",
       "      <td>unsold</td>\n",
       "      <td>2022</td>\n",
       "    </tr>\n",
       "    <tr>\n",
       "      <th>5</th>\n",
       "      <td>Mobilio</td>\n",
       "      <td>217</td>\n",
       "      <td>unsold</td>\n",
       "      <td>2021</td>\n",
       "    </tr>\n",
       "    <tr>\n",
       "      <th>7</th>\n",
       "      <td>City</td>\n",
       "      <td>333</td>\n",
       "      <td>unsold</td>\n",
       "      <td>2022</td>\n",
       "    </tr>\n",
       "  </tbody>\n",
       "</table>\n",
       "</div>"
      ],
      "text/plain": [
       "     Brand  Price  Status  ProdYear\n",
       "2      HRV    364  unsold      2021\n",
       "3      CRV    515    sold      2020\n",
       "4    Civic    586  unsold      2022\n",
       "5  Mobilio    217  unsold      2021\n",
       "7     City    333  unsold      2022"
      ]
     },
     "execution_count": 17,
     "metadata": {},
     "output_type": "execute_result"
    }
   ],
   "source": [
    "df[(df.Price >= 400) | (df.Status == 'unsold')]"
   ]
  },
  {
   "cell_type": "markdown",
   "id": "21bf55a7",
   "metadata": {},
   "source": [
    "# 7. Descriptive Statistics"
   ]
  },
  {
   "cell_type": "markdown",
   "id": "d5ad13cc",
   "metadata": {},
   "source": [
    "Descriptive statistics are a way of describing the features of a data set by producing summaries about a sample of the data. This is often described as a displayed summary of the data that describes the contents of the data. For example in the price column"
   ]
  },
  {
   "cell_type": "markdown",
   "id": "5c7d32f4",
   "metadata": {},
   "source": [
    "```describe()``` \n",
    "Function gives the mean, std and IQR values. It excludes character column and calculate summary statistics only for numeric columns.\n",
    "\n",
    "You can do a summary for all data or only part of it"
   ]
  },
  {
   "cell_type": "code",
   "execution_count": 18,
   "id": "972b7ad7",
   "metadata": {},
   "outputs": [
    {
     "data": {
      "text/html": [
       "<div>\n",
       "<style scoped>\n",
       "    .dataframe tbody tr th:only-of-type {\n",
       "        vertical-align: middle;\n",
       "    }\n",
       "\n",
       "    .dataframe tbody tr th {\n",
       "        vertical-align: top;\n",
       "    }\n",
       "\n",
       "    .dataframe thead th {\n",
       "        text-align: right;\n",
       "    }\n",
       "</style>\n",
       "<table border=\"1\" class=\"dataframe\">\n",
       "  <thead>\n",
       "    <tr style=\"text-align: right;\">\n",
       "      <th></th>\n",
       "      <th>Price</th>\n",
       "      <th>ProdYear</th>\n",
       "    </tr>\n",
       "  </thead>\n",
       "  <tbody>\n",
       "    <tr>\n",
       "      <th>count</th>\n",
       "      <td>8.000000</td>\n",
       "      <td>8.000000</td>\n",
       "    </tr>\n",
       "    <tr>\n",
       "      <th>mean</th>\n",
       "      <td>338.625000</td>\n",
       "      <td>2021.000000</td>\n",
       "    </tr>\n",
       "    <tr>\n",
       "      <th>std</th>\n",
       "      <td>147.769065</td>\n",
       "      <td>1.309307</td>\n",
       "    </tr>\n",
       "    <tr>\n",
       "      <th>min</th>\n",
       "      <td>148.000000</td>\n",
       "      <td>2019.000000</td>\n",
       "    </tr>\n",
       "    <tr>\n",
       "      <th>25%</th>\n",
       "      <td>253.000000</td>\n",
       "      <td>2020.000000</td>\n",
       "    </tr>\n",
       "    <tr>\n",
       "      <th>50%</th>\n",
       "      <td>307.000000</td>\n",
       "      <td>2021.000000</td>\n",
       "    </tr>\n",
       "    <tr>\n",
       "      <th>75%</th>\n",
       "      <td>401.750000</td>\n",
       "      <td>2022.000000</td>\n",
       "    </tr>\n",
       "    <tr>\n",
       "      <th>max</th>\n",
       "      <td>586.000000</td>\n",
       "      <td>2023.000000</td>\n",
       "    </tr>\n",
       "  </tbody>\n",
       "</table>\n",
       "</div>"
      ],
      "text/plain": [
       "            Price     ProdYear\n",
       "count    8.000000     8.000000\n",
       "mean   338.625000  2021.000000\n",
       "std    147.769065     1.309307\n",
       "min    148.000000  2019.000000\n",
       "25%    253.000000  2020.000000\n",
       "50%    307.000000  2021.000000\n",
       "75%    401.750000  2022.000000\n",
       "max    586.000000  2023.000000"
      ]
     },
     "execution_count": 18,
     "metadata": {},
     "output_type": "execute_result"
    }
   ],
   "source": [
    "df.describe()"
   ]
  },
  {
   "cell_type": "markdown",
   "id": "7c85ed0a",
   "metadata": {},
   "source": [
    "You can do a summary for all the data or just some of it. If only part of it then call the column name like this"
   ]
  },
  {
   "cell_type": "code",
   "execution_count": 19,
   "id": "f924c0e9",
   "metadata": {},
   "outputs": [
    {
     "data": {
      "text/plain": [
       "8"
      ]
     },
     "execution_count": 19,
     "metadata": {},
     "output_type": "execute_result"
    }
   ],
   "source": [
    "df.Price.count()"
   ]
  },
  {
   "cell_type": "code",
   "execution_count": 20,
   "id": "7e3a81b7",
   "metadata": {},
   "outputs": [
    {
     "data": {
      "text/plain": [
       "338.625"
      ]
     },
     "execution_count": 20,
     "metadata": {},
     "output_type": "execute_result"
    }
   ],
   "source": [
    "df.Price.mean()"
   ]
  },
  {
   "cell_type": "markdown",
   "id": "8ec12e6c",
   "metadata": {},
   "source": [
    "This is a list of explanations for each output of the description function"
   ]
  },
  {
   "cell_type": "markdown",
   "id": "7b8b32f9",
   "metadata": {},
   "source": [
    "```DataFrame.count``` → Count number of non-NA/null observations.\n",
    "\n",
    "```DataFrame.max``` → Maximum of the values in the object.\n",
    "\n",
    "```DataFrame.min``` → Minimum of the values in the object.\n",
    "\n",
    "```DataFrame.mean``` → Mean of the values.\n",
    "\n",
    "```DataFrame.std``` → Standard deviation of the observations.\n",
    "\n",
    "```DataFrame.select_dtypes``` → Subset of a DataFrame including/excluding columns based on their dtype."
   ]
  },
  {
   "cell_type": "markdown",
   "id": "556a579b",
   "metadata": {},
   "source": [
    "# 8. Case Expression "
   ]
  },
  {
   "cell_type": "markdown",
   "id": "e43bdfc2",
   "metadata": {},
   "source": [
    "If you are familiar with case expressions in SQL or if-else in excel then pandas can also make the same thing by combining it with a lambda."
   ]
  },
  {
   "cell_type": "markdown",
   "id": "580ca562",
   "metadata": {},
   "source": [
    "What is the ```case expression```? CASE expressions are conditionals that pass conditions and return the value when the first condition is met (like an if-then-else statement). So once a condition is true, it will stop reading and return the result.\n",
    "\n",
    "If none of the conditions are true, it returns the value in the ELSE clause.\n",
    "\n",
    "If there is no ELSE section and neither condition is true, it returns NULL."
   ]
  },
  {
   "cell_type": "code",
   "execution_count": 21,
   "id": "39087b93",
   "metadata": {},
   "outputs": [
    {
     "data": {
      "text/html": [
       "<div>\n",
       "<style scoped>\n",
       "    .dataframe tbody tr th:only-of-type {\n",
       "        vertical-align: middle;\n",
       "    }\n",
       "\n",
       "    .dataframe tbody tr th {\n",
       "        vertical-align: top;\n",
       "    }\n",
       "\n",
       "    .dataframe thead th {\n",
       "        text-align: right;\n",
       "    }\n",
       "</style>\n",
       "<table border=\"1\" class=\"dataframe\">\n",
       "  <thead>\n",
       "    <tr style=\"text-align: right;\">\n",
       "      <th></th>\n",
       "      <th>Brand</th>\n",
       "      <th>Price</th>\n",
       "      <th>Status</th>\n",
       "      <th>ProdYear</th>\n",
       "      <th>type_price</th>\n",
       "    </tr>\n",
       "  </thead>\n",
       "  <tbody>\n",
       "    <tr>\n",
       "      <th>0</th>\n",
       "      <td>Brio</td>\n",
       "      <td>148</td>\n",
       "      <td>sold</td>\n",
       "      <td>2020</td>\n",
       "      <td>Low</td>\n",
       "    </tr>\n",
       "    <tr>\n",
       "      <th>1</th>\n",
       "      <td>Jazz</td>\n",
       "      <td>265</td>\n",
       "      <td>sold</td>\n",
       "      <td>2019</td>\n",
       "      <td>Normal</td>\n",
       "    </tr>\n",
       "    <tr>\n",
       "      <th>2</th>\n",
       "      <td>HRV</td>\n",
       "      <td>364</td>\n",
       "      <td>unsold</td>\n",
       "      <td>2021</td>\n",
       "      <td>Normal</td>\n",
       "    </tr>\n",
       "    <tr>\n",
       "      <th>3</th>\n",
       "      <td>CRV</td>\n",
       "      <td>515</td>\n",
       "      <td>sold</td>\n",
       "      <td>2020</td>\n",
       "      <td>High</td>\n",
       "    </tr>\n",
       "    <tr>\n",
       "      <th>4</th>\n",
       "      <td>Civic</td>\n",
       "      <td>586</td>\n",
       "      <td>unsold</td>\n",
       "      <td>2022</td>\n",
       "      <td>High</td>\n",
       "    </tr>\n",
       "  </tbody>\n",
       "</table>\n",
       "</div>"
      ],
      "text/plain": [
       "   Brand  Price  Status  ProdYear type_price\n",
       "0   Brio    148    sold      2020        Low\n",
       "1   Jazz    265    sold      2019     Normal\n",
       "2    HRV    364  unsold      2021     Normal\n",
       "3    CRV    515    sold      2020       High\n",
       "4  Civic    586  unsold      2022       High"
      ]
     },
     "execution_count": 21,
     "metadata": {},
     "output_type": "execute_result"
    }
   ],
   "source": [
    "def fun(x):\n",
    "    if x < 200:\n",
    "        return \"Low\"\n",
    "  \n",
    "    elif x >= 200 and x<400:\n",
    "        return \"Normal\"\n",
    "  \n",
    "    else:\n",
    "        return \"High\"\n",
    "    \n",
    "df['type_price'] = df['Price'].apply(lambda x : fun(x))\n",
    "\n",
    "df.head()"
   ]
  },
  {
   "cell_type": "code",
   "execution_count": null,
   "id": "562b11a8",
   "metadata": {},
   "outputs": [],
   "source": []
  },
  {
   "cell_type": "markdown",
   "id": "d0ed8929",
   "metadata": {},
   "source": [
    "# 9. Grouping and Sorting"
   ]
  },
  {
   "cell_type": "markdown",
   "id": "0d916960",
   "metadata": {},
   "source": [
    "The ```GROUP BY``` statement groups rows that have the same values into summary rows, like \"find the number of type_price in each production year\".\n",
    "\n",
    "The ```GROUP BY``` statement is often used with aggregate functions (COUNT(), MAX(), MIN(), SUM(), AVG()) to group the result-set by one or more columns.\n",
    "\n",
    "In SQL it's called \"group by\" and in excel it's called \"pivot table\""
   ]
  },
  {
   "cell_type": "markdown",
   "id": "028dea83",
   "metadata": {},
   "source": [
    "```Make a summary of car sales data sold```"
   ]
  },
  {
   "cell_type": "code",
   "execution_count": 22,
   "id": "4f0f7ff5",
   "metadata": {},
   "outputs": [
    {
     "data": {
      "text/html": [
       "<div>\n",
       "<style scoped>\n",
       "    .dataframe tbody tr th:only-of-type {\n",
       "        vertical-align: middle;\n",
       "    }\n",
       "\n",
       "    .dataframe tbody tr th {\n",
       "        vertical-align: top;\n",
       "    }\n",
       "\n",
       "    .dataframe thead th {\n",
       "        text-align: right;\n",
       "    }\n",
       "</style>\n",
       "<table border=\"1\" class=\"dataframe\">\n",
       "  <thead>\n",
       "    <tr style=\"text-align: right;\">\n",
       "      <th></th>\n",
       "      <th>Status</th>\n",
       "    </tr>\n",
       "    <tr>\n",
       "      <th>Status</th>\n",
       "      <th></th>\n",
       "    </tr>\n",
       "  </thead>\n",
       "  <tbody>\n",
       "    <tr>\n",
       "      <th>sold</th>\n",
       "      <td>4</td>\n",
       "    </tr>\n",
       "    <tr>\n",
       "      <th>unsold</th>\n",
       "      <td>4</td>\n",
       "    </tr>\n",
       "  </tbody>\n",
       "</table>\n",
       "</div>"
      ],
      "text/plain": [
       "        Status\n",
       "Status        \n",
       "sold         4\n",
       "unsold       4"
      ]
     },
     "execution_count": 22,
     "metadata": {},
     "output_type": "execute_result"
    }
   ],
   "source": [
    "df.groupby(['Status']).agg({'Status':'count'})"
   ]
  },
  {
   "cell_type": "markdown",
   "id": "689bb015",
   "metadata": {},
   "source": [
    "``Add previous data with average sales``"
   ]
  },
  {
   "cell_type": "code",
   "execution_count": 23,
   "id": "a3708e8c",
   "metadata": {},
   "outputs": [
    {
     "data": {
      "text/html": [
       "<div>\n",
       "<style scoped>\n",
       "    .dataframe tbody tr th:only-of-type {\n",
       "        vertical-align: middle;\n",
       "    }\n",
       "\n",
       "    .dataframe tbody tr th {\n",
       "        vertical-align: top;\n",
       "    }\n",
       "\n",
       "    .dataframe thead th {\n",
       "        text-align: right;\n",
       "    }\n",
       "</style>\n",
       "<table border=\"1\" class=\"dataframe\">\n",
       "  <thead>\n",
       "    <tr style=\"text-align: right;\">\n",
       "      <th></th>\n",
       "      <th>Status</th>\n",
       "      <th>Price</th>\n",
       "    </tr>\n",
       "    <tr>\n",
       "      <th>Status</th>\n",
       "      <th></th>\n",
       "      <th></th>\n",
       "    </tr>\n",
       "  </thead>\n",
       "  <tbody>\n",
       "    <tr>\n",
       "      <th>sold</th>\n",
       "      <td>4</td>\n",
       "      <td>302.25</td>\n",
       "    </tr>\n",
       "    <tr>\n",
       "      <th>unsold</th>\n",
       "      <td>4</td>\n",
       "      <td>375.00</td>\n",
       "    </tr>\n",
       "  </tbody>\n",
       "</table>\n",
       "</div>"
      ],
      "text/plain": [
       "        Status   Price\n",
       "Status                \n",
       "sold         4  302.25\n",
       "unsold       4  375.00"
      ]
     },
     "execution_count": 23,
     "metadata": {},
     "output_type": "execute_result"
    }
   ],
   "source": [
    "df.groupby(['Status']).agg({'Status': 'count',\n",
    "                           'Price': 'mean'})"
   ]
  },
  {
   "cell_type": "markdown",
   "id": "7a222aa8",
   "metadata": {},
   "source": [
    "```Add previous data with max and min sales```"
   ]
  },
  {
   "cell_type": "code",
   "execution_count": 24,
   "id": "536ff141",
   "metadata": {},
   "outputs": [
    {
     "data": {
      "text/html": [
       "<div>\n",
       "<style scoped>\n",
       "    .dataframe tbody tr th:only-of-type {\n",
       "        vertical-align: middle;\n",
       "    }\n",
       "\n",
       "    .dataframe tbody tr th {\n",
       "        vertical-align: top;\n",
       "    }\n",
       "\n",
       "    .dataframe thead tr th {\n",
       "        text-align: left;\n",
       "    }\n",
       "\n",
       "    .dataframe thead tr:last-of-type th {\n",
       "        text-align: right;\n",
       "    }\n",
       "</style>\n",
       "<table border=\"1\" class=\"dataframe\">\n",
       "  <thead>\n",
       "    <tr>\n",
       "      <th></th>\n",
       "      <th>Status</th>\n",
       "      <th colspan=\"3\" halign=\"left\">Price</th>\n",
       "    </tr>\n",
       "    <tr>\n",
       "      <th></th>\n",
       "      <th>count</th>\n",
       "      <th>mean</th>\n",
       "      <th>max</th>\n",
       "      <th>min</th>\n",
       "    </tr>\n",
       "    <tr>\n",
       "      <th>Status</th>\n",
       "      <th></th>\n",
       "      <th></th>\n",
       "      <th></th>\n",
       "      <th></th>\n",
       "    </tr>\n",
       "  </thead>\n",
       "  <tbody>\n",
       "    <tr>\n",
       "      <th>sold</th>\n",
       "      <td>4</td>\n",
       "      <td>302.25</td>\n",
       "      <td>515</td>\n",
       "      <td>148</td>\n",
       "    </tr>\n",
       "    <tr>\n",
       "      <th>unsold</th>\n",
       "      <td>4</td>\n",
       "      <td>375.00</td>\n",
       "      <td>586</td>\n",
       "      <td>217</td>\n",
       "    </tr>\n",
       "  </tbody>\n",
       "</table>\n",
       "</div>"
      ],
      "text/plain": [
       "       Status   Price          \n",
       "        count    mean  max  min\n",
       "Status                         \n",
       "sold        4  302.25  515  148\n",
       "unsold      4  375.00  586  217"
      ]
     },
     "execution_count": 24,
     "metadata": {},
     "output_type": "execute_result"
    }
   ],
   "source": [
    "df.groupby(['Status']).agg({'Status': 'count',\n",
    "                           'Price': ['mean','max','min']})"
   ]
  },
  {
   "cell_type": "markdown",
   "id": "d4b04b84",
   "metadata": {},
   "source": [
    "```Group the previous data by the year column```"
   ]
  },
  {
   "cell_type": "code",
   "execution_count": 25,
   "id": "69d21285",
   "metadata": {},
   "outputs": [
    {
     "data": {
      "text/html": [
       "<div>\n",
       "<style scoped>\n",
       "    .dataframe tbody tr th:only-of-type {\n",
       "        vertical-align: middle;\n",
       "    }\n",
       "\n",
       "    .dataframe tbody tr th {\n",
       "        vertical-align: top;\n",
       "    }\n",
       "\n",
       "    .dataframe thead tr th {\n",
       "        text-align: left;\n",
       "    }\n",
       "\n",
       "    .dataframe thead tr:last-of-type th {\n",
       "        text-align: right;\n",
       "    }\n",
       "</style>\n",
       "<table border=\"1\" class=\"dataframe\">\n",
       "  <thead>\n",
       "    <tr>\n",
       "      <th></th>\n",
       "      <th></th>\n",
       "      <th>Status</th>\n",
       "      <th colspan=\"3\" halign=\"left\">Price</th>\n",
       "    </tr>\n",
       "    <tr>\n",
       "      <th></th>\n",
       "      <th></th>\n",
       "      <th>count</th>\n",
       "      <th>mean</th>\n",
       "      <th>max</th>\n",
       "      <th>min</th>\n",
       "    </tr>\n",
       "    <tr>\n",
       "      <th>Status</th>\n",
       "      <th>ProdYear</th>\n",
       "      <th></th>\n",
       "      <th></th>\n",
       "      <th></th>\n",
       "      <th></th>\n",
       "    </tr>\n",
       "  </thead>\n",
       "  <tbody>\n",
       "    <tr>\n",
       "      <th rowspan=\"3\" valign=\"top\">sold</th>\n",
       "      <th>2019</th>\n",
       "      <td>1</td>\n",
       "      <td>265.0</td>\n",
       "      <td>265</td>\n",
       "      <td>265</td>\n",
       "    </tr>\n",
       "    <tr>\n",
       "      <th>2020</th>\n",
       "      <td>2</td>\n",
       "      <td>331.5</td>\n",
       "      <td>515</td>\n",
       "      <td>148</td>\n",
       "    </tr>\n",
       "    <tr>\n",
       "      <th>2023</th>\n",
       "      <td>1</td>\n",
       "      <td>281.0</td>\n",
       "      <td>281</td>\n",
       "      <td>281</td>\n",
       "    </tr>\n",
       "    <tr>\n",
       "      <th rowspan=\"2\" valign=\"top\">unsold</th>\n",
       "      <th>2021</th>\n",
       "      <td>2</td>\n",
       "      <td>290.5</td>\n",
       "      <td>364</td>\n",
       "      <td>217</td>\n",
       "    </tr>\n",
       "    <tr>\n",
       "      <th>2022</th>\n",
       "      <td>2</td>\n",
       "      <td>459.5</td>\n",
       "      <td>586</td>\n",
       "      <td>333</td>\n",
       "    </tr>\n",
       "  </tbody>\n",
       "</table>\n",
       "</div>"
      ],
      "text/plain": [
       "                Status  Price          \n",
       "                 count   mean  max  min\n",
       "Status ProdYear                        \n",
       "sold   2019          1  265.0  265  265\n",
       "       2020          2  331.5  515  148\n",
       "       2023          1  281.0  281  281\n",
       "unsold 2021          2  290.5  364  217\n",
       "       2022          2  459.5  586  333"
      ]
     },
     "execution_count": 25,
     "metadata": {},
     "output_type": "execute_result"
    }
   ],
   "source": [
    "df.groupby(['Status','ProdYear']).agg({'Status': 'count',\n",
    "                           'Price': ['mean','max','min']})"
   ]
  },
  {
   "cell_type": "markdown",
   "id": "127003b2",
   "metadata": {},
   "source": [
    "```Reset indexes in pandas to have only one index and sort values by Prod Year```"
   ]
  },
  {
   "cell_type": "code",
   "execution_count": 26,
   "id": "9d8554f3",
   "metadata": {},
   "outputs": [
    {
     "data": {
      "text/html": [
       "<div>\n",
       "<style scoped>\n",
       "    .dataframe tbody tr th:only-of-type {\n",
       "        vertical-align: middle;\n",
       "    }\n",
       "\n",
       "    .dataframe tbody tr th {\n",
       "        vertical-align: top;\n",
       "    }\n",
       "\n",
       "    .dataframe thead tr th {\n",
       "        text-align: left;\n",
       "    }\n",
       "</style>\n",
       "<table border=\"1\" class=\"dataframe\">\n",
       "  <thead>\n",
       "    <tr>\n",
       "      <th></th>\n",
       "      <th>Status</th>\n",
       "      <th>ProdYear</th>\n",
       "      <th>Status</th>\n",
       "      <th colspan=\"3\" halign=\"left\">Price</th>\n",
       "    </tr>\n",
       "    <tr>\n",
       "      <th></th>\n",
       "      <th></th>\n",
       "      <th></th>\n",
       "      <th>count</th>\n",
       "      <th>mean</th>\n",
       "      <th>max</th>\n",
       "      <th>min</th>\n",
       "    </tr>\n",
       "  </thead>\n",
       "  <tbody>\n",
       "    <tr>\n",
       "      <th>0</th>\n",
       "      <td>sold</td>\n",
       "      <td>2019</td>\n",
       "      <td>1</td>\n",
       "      <td>265.0</td>\n",
       "      <td>265</td>\n",
       "      <td>265</td>\n",
       "    </tr>\n",
       "    <tr>\n",
       "      <th>1</th>\n",
       "      <td>sold</td>\n",
       "      <td>2020</td>\n",
       "      <td>2</td>\n",
       "      <td>331.5</td>\n",
       "      <td>515</td>\n",
       "      <td>148</td>\n",
       "    </tr>\n",
       "    <tr>\n",
       "      <th>3</th>\n",
       "      <td>unsold</td>\n",
       "      <td>2021</td>\n",
       "      <td>2</td>\n",
       "      <td>290.5</td>\n",
       "      <td>364</td>\n",
       "      <td>217</td>\n",
       "    </tr>\n",
       "    <tr>\n",
       "      <th>4</th>\n",
       "      <td>unsold</td>\n",
       "      <td>2022</td>\n",
       "      <td>2</td>\n",
       "      <td>459.5</td>\n",
       "      <td>586</td>\n",
       "      <td>333</td>\n",
       "    </tr>\n",
       "    <tr>\n",
       "      <th>2</th>\n",
       "      <td>sold</td>\n",
       "      <td>2023</td>\n",
       "      <td>1</td>\n",
       "      <td>281.0</td>\n",
       "      <td>281</td>\n",
       "      <td>281</td>\n",
       "    </tr>\n",
       "  </tbody>\n",
       "</table>\n",
       "</div>"
      ],
      "text/plain": [
       "   Status ProdYear Status  Price          \n",
       "                    count   mean  max  min\n",
       "0    sold     2019      1  265.0  265  265\n",
       "1    sold     2020      2  331.5  515  148\n",
       "3  unsold     2021      2  290.5  364  217\n",
       "4  unsold     2022      2  459.5  586  333\n",
       "2    sold     2023      1  281.0  281  281"
      ]
     },
     "execution_count": 26,
     "metadata": {},
     "output_type": "execute_result"
    }
   ],
   "source": [
    "df.groupby(['Status','ProdYear']).agg({'Status': 'count',\n",
    "                           'Price': ['mean','max','min']}).reset_index().sort_values(by='ProdYear')"
   ]
  },
  {
   "cell_type": "markdown",
   "id": "267bc5f9",
   "metadata": {},
   "source": [
    "# 10. Combining Data"
   ]
  },
  {
   "cell_type": "markdown",
   "id": "e22386be",
   "metadata": {},
   "source": [
    "Lets create new data"
   ]
  },
  {
   "cell_type": "code",
   "execution_count": 27,
   "id": "2d27049b",
   "metadata": {},
   "outputs": [],
   "source": [
    "id_cars = {'idcars': ['1','2','3','4','5','6','7','8'],\n",
    "        'Brand': ['Brio','Jazz','HRV','CRV','Civic','Mobilio','BRV','City']\n",
    "        }\n",
    "\n",
    "df_id = pd.DataFrame(id_cars)\n",
    "df_id['table'] = 'id_cars'"
   ]
  },
  {
   "cell_type": "code",
   "execution_count": 28,
   "id": "fb9e6a06",
   "metadata": {},
   "outputs": [],
   "source": [
    "cars1 = {'idcars': ['1','3','5','7','2','4','6','8'],\n",
    "        'Price': [148,252,300,467,536,205,251,355],\n",
    "         'Year' : [2022,2021,2020,2022,2021,2020,2019,2020]\n",
    "        }\n",
    "\n",
    "df1 = pd.DataFrame(cars1)\n",
    "df1['table'] = 'cars1'"
   ]
  },
  {
   "cell_type": "code",
   "execution_count": 29,
   "id": "4cdb0972",
   "metadata": {},
   "outputs": [],
   "source": [
    "cars2 = {'idcars': ['1','2','3','4','5','6','7','8'],\n",
    "        'Price': [130,240,290,450,520,190,240,340],\n",
    "         'Year' : [2021,2020,2019,2021,2020,2019,2018,2019]\n",
    "        }\n",
    "\n",
    "df2 = pd.DataFrame(cars2)\n",
    "df2['table'] = 'cars2'"
   ]
  },
  {
   "cell_type": "markdown",
   "id": "38b4da95",
   "metadata": {},
   "source": [
    "Pandas has three core methods for doing this. In order of increasing complexity, these are concat(), join(), and merge(). \n",
    "\n",
    "We will omit it and focus on the first two functions here ```concat()``` and ```merge()```.\n",
    "Most of what merge() can do can also be done more simply with join()"
   ]
  },
  {
   "cell_type": "markdown",
   "id": "21c9b4f4",
   "metadata": {},
   "source": [
    "# ```Concat```"
   ]
  },
  {
   "cell_type": "markdown",
   "id": "ef003120",
   "metadata": {},
   "source": [
    "The simplest combining method is concat(). Given a list of elements, this function will smush those elements together along an axis."
   ]
  },
  {
   "cell_type": "code",
   "execution_count": 30,
   "id": "065d42eb",
   "metadata": {},
   "outputs": [
    {
     "data": {
      "text/html": [
       "<div>\n",
       "<style scoped>\n",
       "    .dataframe tbody tr th:only-of-type {\n",
       "        vertical-align: middle;\n",
       "    }\n",
       "\n",
       "    .dataframe tbody tr th {\n",
       "        vertical-align: top;\n",
       "    }\n",
       "\n",
       "    .dataframe thead th {\n",
       "        text-align: right;\n",
       "    }\n",
       "</style>\n",
       "<table border=\"1\" class=\"dataframe\">\n",
       "  <thead>\n",
       "    <tr style=\"text-align: right;\">\n",
       "      <th></th>\n",
       "      <th>idcars</th>\n",
       "      <th>Price</th>\n",
       "      <th>Year</th>\n",
       "      <th>table</th>\n",
       "    </tr>\n",
       "  </thead>\n",
       "  <tbody>\n",
       "    <tr>\n",
       "      <th>0</th>\n",
       "      <td>1</td>\n",
       "      <td>148</td>\n",
       "      <td>2022</td>\n",
       "      <td>cars1</td>\n",
       "    </tr>\n",
       "    <tr>\n",
       "      <th>1</th>\n",
       "      <td>3</td>\n",
       "      <td>252</td>\n",
       "      <td>2021</td>\n",
       "      <td>cars1</td>\n",
       "    </tr>\n",
       "    <tr>\n",
       "      <th>2</th>\n",
       "      <td>5</td>\n",
       "      <td>300</td>\n",
       "      <td>2020</td>\n",
       "      <td>cars1</td>\n",
       "    </tr>\n",
       "    <tr>\n",
       "      <th>3</th>\n",
       "      <td>7</td>\n",
       "      <td>467</td>\n",
       "      <td>2022</td>\n",
       "      <td>cars1</td>\n",
       "    </tr>\n",
       "    <tr>\n",
       "      <th>4</th>\n",
       "      <td>2</td>\n",
       "      <td>536</td>\n",
       "      <td>2021</td>\n",
       "      <td>cars1</td>\n",
       "    </tr>\n",
       "    <tr>\n",
       "      <th>5</th>\n",
       "      <td>4</td>\n",
       "      <td>205</td>\n",
       "      <td>2020</td>\n",
       "      <td>cars1</td>\n",
       "    </tr>\n",
       "    <tr>\n",
       "      <th>6</th>\n",
       "      <td>6</td>\n",
       "      <td>251</td>\n",
       "      <td>2019</td>\n",
       "      <td>cars1</td>\n",
       "    </tr>\n",
       "    <tr>\n",
       "      <th>7</th>\n",
       "      <td>8</td>\n",
       "      <td>355</td>\n",
       "      <td>2020</td>\n",
       "      <td>cars1</td>\n",
       "    </tr>\n",
       "    <tr>\n",
       "      <th>0</th>\n",
       "      <td>1</td>\n",
       "      <td>130</td>\n",
       "      <td>2021</td>\n",
       "      <td>cars2</td>\n",
       "    </tr>\n",
       "    <tr>\n",
       "      <th>1</th>\n",
       "      <td>2</td>\n",
       "      <td>240</td>\n",
       "      <td>2020</td>\n",
       "      <td>cars2</td>\n",
       "    </tr>\n",
       "    <tr>\n",
       "      <th>2</th>\n",
       "      <td>3</td>\n",
       "      <td>290</td>\n",
       "      <td>2019</td>\n",
       "      <td>cars2</td>\n",
       "    </tr>\n",
       "    <tr>\n",
       "      <th>3</th>\n",
       "      <td>4</td>\n",
       "      <td>450</td>\n",
       "      <td>2021</td>\n",
       "      <td>cars2</td>\n",
       "    </tr>\n",
       "    <tr>\n",
       "      <th>4</th>\n",
       "      <td>5</td>\n",
       "      <td>520</td>\n",
       "      <td>2020</td>\n",
       "      <td>cars2</td>\n",
       "    </tr>\n",
       "    <tr>\n",
       "      <th>5</th>\n",
       "      <td>6</td>\n",
       "      <td>190</td>\n",
       "      <td>2019</td>\n",
       "      <td>cars2</td>\n",
       "    </tr>\n",
       "    <tr>\n",
       "      <th>6</th>\n",
       "      <td>7</td>\n",
       "      <td>240</td>\n",
       "      <td>2018</td>\n",
       "      <td>cars2</td>\n",
       "    </tr>\n",
       "    <tr>\n",
       "      <th>7</th>\n",
       "      <td>8</td>\n",
       "      <td>340</td>\n",
       "      <td>2019</td>\n",
       "      <td>cars2</td>\n",
       "    </tr>\n",
       "  </tbody>\n",
       "</table>\n",
       "</div>"
      ],
      "text/plain": [
       "  idcars  Price  Year  table\n",
       "0      1    148  2022  cars1\n",
       "1      3    252  2021  cars1\n",
       "2      5    300  2020  cars1\n",
       "3      7    467  2022  cars1\n",
       "4      2    536  2021  cars1\n",
       "5      4    205  2020  cars1\n",
       "6      6    251  2019  cars1\n",
       "7      8    355  2020  cars1\n",
       "0      1    130  2021  cars2\n",
       "1      2    240  2020  cars2\n",
       "2      3    290  2019  cars2\n",
       "3      4    450  2021  cars2\n",
       "4      5    520  2020  cars2\n",
       "5      6    190  2019  cars2\n",
       "6      7    240  2018  cars2\n",
       "7      8    340  2019  cars2"
      ]
     },
     "execution_count": 30,
     "metadata": {},
     "output_type": "execute_result"
    }
   ],
   "source": [
    "df = pd.concat([df1, df2])\n",
    "df"
   ]
  },
  {
   "cell_type": "markdown",
   "id": "4f5a4ee5",
   "metadata": {},
   "source": [
    "# ```Merge```"
   ]
  },
  {
   "cell_type": "markdown",
   "id": "a880bc95",
   "metadata": {},
   "source": [
    "A Merge / join clause is used to combine rows from two or more tables, based on a related column between them. The joining requirement is the existence of a primary key and a foreign key so that the two tables are joined"
   ]
  },
  {
   "cell_type": "markdown",
   "id": "016b52f4",
   "metadata": {},
   "source": [
    "The different types of Joints are as follows:\n",
    "\n",
    "1. INNER JOIN\n",
    "2. LEFT JOIN\n",
    "3. RIGHT JOIN\n",
    "4. FULL JOIN"
   ]
  },
  {
   "cell_type": "code",
   "execution_count": 31,
   "id": "70b2c3d1",
   "metadata": {},
   "outputs": [
    {
     "data": {
      "text/html": [
       "<div>\n",
       "<style scoped>\n",
       "    .dataframe tbody tr th:only-of-type {\n",
       "        vertical-align: middle;\n",
       "    }\n",
       "\n",
       "    .dataframe tbody tr th {\n",
       "        vertical-align: top;\n",
       "    }\n",
       "\n",
       "    .dataframe thead th {\n",
       "        text-align: right;\n",
       "    }\n",
       "</style>\n",
       "<table border=\"1\" class=\"dataframe\">\n",
       "  <thead>\n",
       "    <tr style=\"text-align: right;\">\n",
       "      <th></th>\n",
       "      <th>idcars</th>\n",
       "      <th>Price</th>\n",
       "      <th>Year</th>\n",
       "      <th>table_x</th>\n",
       "      <th>Brand</th>\n",
       "      <th>table_y</th>\n",
       "    </tr>\n",
       "  </thead>\n",
       "  <tbody>\n",
       "    <tr>\n",
       "      <th>0</th>\n",
       "      <td>1</td>\n",
       "      <td>148</td>\n",
       "      <td>2022</td>\n",
       "      <td>cars1</td>\n",
       "      <td>Brio</td>\n",
       "      <td>id_cars</td>\n",
       "    </tr>\n",
       "    <tr>\n",
       "      <th>1</th>\n",
       "      <td>3</td>\n",
       "      <td>252</td>\n",
       "      <td>2021</td>\n",
       "      <td>cars1</td>\n",
       "      <td>HRV</td>\n",
       "      <td>id_cars</td>\n",
       "    </tr>\n",
       "    <tr>\n",
       "      <th>2</th>\n",
       "      <td>5</td>\n",
       "      <td>300</td>\n",
       "      <td>2020</td>\n",
       "      <td>cars1</td>\n",
       "      <td>Civic</td>\n",
       "      <td>id_cars</td>\n",
       "    </tr>\n",
       "    <tr>\n",
       "      <th>3</th>\n",
       "      <td>7</td>\n",
       "      <td>467</td>\n",
       "      <td>2022</td>\n",
       "      <td>cars1</td>\n",
       "      <td>BRV</td>\n",
       "      <td>id_cars</td>\n",
       "    </tr>\n",
       "    <tr>\n",
       "      <th>4</th>\n",
       "      <td>2</td>\n",
       "      <td>536</td>\n",
       "      <td>2021</td>\n",
       "      <td>cars1</td>\n",
       "      <td>Jazz</td>\n",
       "      <td>id_cars</td>\n",
       "    </tr>\n",
       "  </tbody>\n",
       "</table>\n",
       "</div>"
      ],
      "text/plain": [
       "  idcars  Price  Year table_x  Brand  table_y\n",
       "0      1    148  2022   cars1   Brio  id_cars\n",
       "1      3    252  2021   cars1    HRV  id_cars\n",
       "2      5    300  2020   cars1  Civic  id_cars\n",
       "3      7    467  2022   cars1    BRV  id_cars\n",
       "4      2    536  2021   cars1   Jazz  id_cars"
      ]
     },
     "execution_count": 31,
     "metadata": {},
     "output_type": "execute_result"
    }
   ],
   "source": [
    "df_new = pd.merge(df, df_id, on = 'idcars' , how = 'left' )\n",
    "df_new.head()"
   ]
  },
  {
   "cell_type": "markdown",
   "id": "c8585b9f",
   "metadata": {},
   "source": [
    "if we look at the results of the join above, there are columns \"table_x\" and \"table_y\" because both tables have these columns. The way to handle it is in the second table *(df_id)* , delete the same column by changing the way it is called when doing a join"
   ]
  },
  {
   "cell_type": "code",
   "execution_count": 32,
   "id": "3b16dad4",
   "metadata": {},
   "outputs": [
    {
     "data": {
      "text/html": [
       "<div>\n",
       "<style scoped>\n",
       "    .dataframe tbody tr th:only-of-type {\n",
       "        vertical-align: middle;\n",
       "    }\n",
       "\n",
       "    .dataframe tbody tr th {\n",
       "        vertical-align: top;\n",
       "    }\n",
       "\n",
       "    .dataframe thead th {\n",
       "        text-align: right;\n",
       "    }\n",
       "</style>\n",
       "<table border=\"1\" class=\"dataframe\">\n",
       "  <thead>\n",
       "    <tr style=\"text-align: right;\">\n",
       "      <th></th>\n",
       "      <th>idcars</th>\n",
       "      <th>Price</th>\n",
       "      <th>Year</th>\n",
       "      <th>table</th>\n",
       "      <th>Brand</th>\n",
       "    </tr>\n",
       "  </thead>\n",
       "  <tbody>\n",
       "    <tr>\n",
       "      <th>0</th>\n",
       "      <td>1</td>\n",
       "      <td>148</td>\n",
       "      <td>2022</td>\n",
       "      <td>cars1</td>\n",
       "      <td>Brio</td>\n",
       "    </tr>\n",
       "    <tr>\n",
       "      <th>1</th>\n",
       "      <td>3</td>\n",
       "      <td>252</td>\n",
       "      <td>2021</td>\n",
       "      <td>cars1</td>\n",
       "      <td>HRV</td>\n",
       "    </tr>\n",
       "    <tr>\n",
       "      <th>2</th>\n",
       "      <td>5</td>\n",
       "      <td>300</td>\n",
       "      <td>2020</td>\n",
       "      <td>cars1</td>\n",
       "      <td>Civic</td>\n",
       "    </tr>\n",
       "    <tr>\n",
       "      <th>3</th>\n",
       "      <td>7</td>\n",
       "      <td>467</td>\n",
       "      <td>2022</td>\n",
       "      <td>cars1</td>\n",
       "      <td>BRV</td>\n",
       "    </tr>\n",
       "    <tr>\n",
       "      <th>4</th>\n",
       "      <td>2</td>\n",
       "      <td>536</td>\n",
       "      <td>2021</td>\n",
       "      <td>cars1</td>\n",
       "      <td>Jazz</td>\n",
       "    </tr>\n",
       "  </tbody>\n",
       "</table>\n",
       "</div>"
      ],
      "text/plain": [
       "  idcars  Price  Year  table  Brand\n",
       "0      1    148  2022  cars1   Brio\n",
       "1      3    252  2021  cars1    HRV\n",
       "2      5    300  2020  cars1  Civic\n",
       "3      7    467  2022  cars1    BRV\n",
       "4      2    536  2021  cars1   Jazz"
      ]
     },
     "execution_count": 32,
     "metadata": {},
     "output_type": "execute_result"
    }
   ],
   "source": [
    "df_new = pd.merge(df, df_id[['idcars','Brand']], on ='idcars', how ='left')\n",
    "df_new.head()"
   ]
  },
  {
   "cell_type": "markdown",
   "id": "b7289c7d",
   "metadata": {},
   "source": [
    "# 11. Pandas visualization"
   ]
  },
  {
   "cell_type": "markdown",
   "id": "db7b750b",
   "metadata": {},
   "source": [
    "Pandas library in python is mainly used for data analysis. It is not a data visualization library but, we can create basic plots using Pandas. Pandas is highly useful and practical if we want to create exploratory data analysis plots. Kami perlu mengimpor pustaka visualisasi data selain Panda untuk tugas tersebut sepert ```matplotlib```"
   ]
  },
  {
   "cell_type": "markdown",
   "id": "b8654a92",
   "metadata": {},
   "source": [
    "https://pandas.pydata.org/pandas-docs/stable/user_guide/visualization.html"
   ]
  },
  {
   "cell_type": "code",
   "execution_count": 33,
   "id": "6eb4b14e",
   "metadata": {},
   "outputs": [],
   "source": [
    "import matplotlib.pyplot as plt"
   ]
  },
  {
   "cell_type": "markdown",
   "id": "69b5ef4f",
   "metadata": {},
   "source": [
    "# ```Basic plotting: Line plot```"
   ]
  },
  {
   "cell_type": "code",
   "execution_count": 34,
   "id": "40c7899e",
   "metadata": {},
   "outputs": [
    {
     "data": {
      "text/plain": [
       "<Figure size 432x288 with 0 Axes>"
      ]
     },
     "metadata": {},
     "output_type": "display_data"
    },
    {
     "data": {
      "image/png": "[encoded data removed]",
      "text/plain": [
       "<Figure size 432x288 with 1 Axes>"
      ]
     },
     "metadata": {
      "needs_background": "light"
     },
     "output_type": "display_data"
    }
   ],
   "source": [
    "ts = pd.Series(np.random.randn(1000), index=pd.date_range(\"1/1/2000\", periods=1000))\n",
    "ts = ts.cumsum()\n",
    "\n",
    "df = pd.DataFrame(np.random.randn(1000, 4), index=ts.index, columns=list(\"ABCD\"))\n",
    "df = df.cumsum()\n",
    "\n",
    "plt.figure();\n",
    "\n",
    "df.plot();"
   ]
  },
  {
   "cell_type": "markdown",
   "id": "eebba9a4",
   "metadata": {},
   "source": [
    "# ```Basic plotting: Bar plot```"
   ]
  },
  {
   "cell_type": "code",
   "execution_count": 35,
   "id": "5ed7c859",
   "metadata": {},
   "outputs": [
    {
     "data": {
      "image/png": "[encoded data removed]",
      "text/plain": [
       "<Figure size 432x288 with 1 Axes>"
      ]
     },
     "metadata": {
      "needs_background": "light"
     },
     "output_type": "display_data"
    }
   ],
   "source": [
    "plt.figure();\n",
    "\n",
    "df.iloc[5].plot(kind=\"bar\");"
   ]
  },
  {
   "cell_type": "code",
   "execution_count": 36,
   "id": "0e02011f",
   "metadata": {},
   "outputs": [
    {
     "data": {
      "image/png": "[encoded data removed]",
      "text/plain": [
       "<Figure size 432x288 with 1 Axes>"
      ]
     },
     "metadata": {
      "needs_background": "light"
     },
     "output_type": "display_data"
    }
   ],
   "source": [
    "df2 = pd.DataFrame(np.random.rand(10, 4), columns=[\"a\", \"b\", \"c\", \"d\"])\n",
    "\n",
    "df2.plot.bar();"
   ]
  },
  {
   "cell_type": "markdown",
   "id": "002058d4",
   "metadata": {},
   "source": [
    "# ```Basic plotting: Histogram```"
   ]
  },
  {
   "cell_type": "code",
   "execution_count": 37,
   "id": "4643421c",
   "metadata": {},
   "outputs": [
    {
     "data": {
      "text/plain": [
       "<Figure size 432x288 with 0 Axes>"
      ]
     },
     "metadata": {},
     "output_type": "display_data"
    },
    {
     "data": {
      "image/png": "[encoded data removed]",
      "text/plain": [
       "<Figure size 432x288 with 1 Axes>"
      ]
     },
     "metadata": {
      "needs_background": "light"
     },
     "output_type": "display_data"
    }
   ],
   "source": [
    "df4 = pd.DataFrame(\n",
    "    {\n",
    "        \"a\": np.random.randn(1000) + 1,\n",
    "        \"b\": np.random.randn(1000),\n",
    "        \"c\": np.random.randn(1000) - 1,\n",
    "    },\n",
    "    columns=[\"a\", \"b\", \"c\"],\n",
    ")\n",
    "\n",
    "\n",
    "plt.figure();\n",
    "\n",
    "df4.plot.hist(alpha=0.5);"
   ]
  },
  {
   "cell_type": "markdown",
   "id": "eaacd385",
   "metadata": {},
   "source": [
    "# Summary"
   ]
  },
  {
   "cell_type": "markdown",
   "id": "f008bcf7",
   "metadata": {},
   "source": [
    "To summarize, in this post we cover how to use the Pandas library.\n",
    "\n",
    "1. What is Pandas ?\n",
    "2. Import Pandas\n",
    "3. Try Data Frames\n",
    "4. Head and Tail\n",
    "5. Slicing\n",
    "6. Conditional selection\n",
    "7. Descriptive Statistics\n",
    "8. Case Expression\n",
    "9. Grouping and Sorting\n",
    "10. Combining Data\n",
    "11. Pandas visualization"
   ]
  },
  {
   "cell_type": "markdown",
   "id": "1ca8624d",
   "metadata": {},
   "source": [
    "To understand pandas more you can visit pandas documentation"
   ]
  },
  {
   "cell_type": "markdown",
   "id": "7616743e",
   "metadata": {},
   "source": [
    "https://pandas.pydata.org/pandas-docs/stable/index.html"
   ]
  },
  {
   "cell_type": "code",
   "execution_count": null,
   "id": "f2820734",
   "metadata": {},
   "outputs": [],
   "source": []
  }
 ],
 "metadata": {
  "kernelspec": {
   "display_name": "Python 3 (ipykernel)",
   "language": "python",
   "name": "python3"
  },
  "language_info": {
   "codemirror_mode": {
    "name": "ipython",
    "version": 3
   },
   "file_extension": ".py",
   "mimetype": "text/x-python",
   "name": "python",
   "nbconvert_exporter": "python",
   "pygments_lexer": "ipython3",
   "version": "3.9.7"
  }
 },
 "nbformat": 4,
 "nbformat_minor": 5
}
